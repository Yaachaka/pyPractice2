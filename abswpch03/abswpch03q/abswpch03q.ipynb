{
 "cells": [
  {
   "source": [
    "Q: 1. Why are functions advantageous to have in your programs?"
   ],
   "cell_type": "markdown",
   "metadata": {}
  },
  {
   "source": [
    "A: 1. Functions reduce the need for duplicate code. This makes programs shorter, easier to read, and easier to update."
   ],
   "cell_type": "markdown",
   "metadata": {}
  },
  {
   "source": [
    "---\n",
    "Q: 2. When does the code in a function execute: when the function is defined or when the function is called?"
   ],
   "cell_type": "markdown",
   "metadata": {}
  },
  {
   "source": [
    "A: 2. The code in a function executes when the function is called, not when the function is defined."
   ],
   "cell_type": "markdown",
   "metadata": {}
  },
  {
   "source": [
    "---\n",
    "Q: 3. What statement creates a function?"
   ],
   "cell_type": "markdown",
   "metadata": {}
  },
  {
   "source": [
    "A: 3. The `def` statement defines (that is, creates) a function."
   ],
   "cell_type": "markdown",
   "metadata": {}
  },
  {
   "source": [
    "---\n",
    "Q: 4. What is the difference between a function and a function call?"
   ],
   "cell_type": "markdown",
   "metadata": {}
  },
  {
   "source": [
    "A: 4. A function consists of the `def` statement and the code in its `def` clause.  \n",
    "A function call is what moves the program execution into the function, and the function call evaluates to the function's return value."
   ],
   "cell_type": "markdown",
   "metadata": {}
  },
  {
   "source": [
    "---\n",
    "Q: 5. How many global scopes are there in a Python program? How many local scopes?"
   ],
   "cell_type": "markdown",
   "metadata": {}
  },
  {
   "source": [
    "A: 5. There is one global scope, and a local scope is created whenever a function is called."
   ],
   "cell_type": "markdown",
   "metadata": {}
  },
  {
   "source": [
    "---\n",
    "Q: 6. What happens to variable in a local scope when the function call returns?"
   ],
   "cell_type": "markdown",
   "metadata": {}
  },
  {
   "source": [
    "A: 6. When a function returns, the local scope is destroyed, and all the variables in it are forgotten."
   ],
   "cell_type": "markdown",
   "metadata": {}
  },
  {
   "source": [
    "---\n",
    "Q: 7. What is a return value? Can a return value be part of an expression?"
   ],
   "cell_type": "markdown",
   "metadata": {}
  },
  {
   "source": [
    "A: 7. A return value is the value that a function call evaluates to. Like any value, a return value can be used as part of an expression."
   ],
   "cell_type": "markdown",
   "metadata": {}
  },
  {
   "source": [
    "---\n",
    "Q: 8. If a function does not have a return statement, what is the return value of a call to that function?"
   ],
   "cell_type": "markdown",
   "metadata": {}
  },
  {
   "source": [
    "A: 8. If there is no return statement for a function, its return value is `None`."
   ],
   "cell_type": "markdown",
   "metadata": {}
  },
  {
   "source": [
    "---\n",
    "Q: 9. How can you force a variable in a function to refer to the global \n",
    "variable?"
   ],
   "cell_type": "markdown",
   "metadata": {}
  },
  {
   "source": [
    "A: 9. A `global` statement will force a variable in a function to refer to the global variable."
   ],
   "cell_type": "markdown",
   "metadata": {}
  },
  {
   "source": [
    "---\n",
    "Q: 10. What is the data type of `None`?"
   ],
   "cell_type": "markdown",
   "metadata": {}
  },
  {
   "source": [
    "A: 10. The data type of `None` is `NoneType`."
   ],
   "cell_type": "markdown",
   "metadata": {}
  },
  {
   "source": [
    "---\n",
    "Q: 11. What does the `import areallyourpetsnamederic` statement do?"
   ],
   "cell_type": "markdown",
   "metadata": {}
  },
  {
   "source": [
    "A: 11. That `import` statement imports a module named `areallyourpetsnamederic`. (This isn't a real Python module, by the way.)"
   ],
   "cell_type": "markdown",
   "metadata": {}
  },
  {
   "source": [
    "---\n",
    "Q: 12. If you had a function named `bacon()` in a module named `spam`, how would you call it after importing `spam`?"
   ],
   "cell_type": "markdown",
   "metadata": {}
  },
  {
   "source": [
    "A: 12. This function can be called with `spam.bacon()`."
   ],
   "cell_type": "markdown",
   "metadata": {}
  },
  {
   "source": [
    "---\n",
    "Q: 13. How can you prevent a program from crashing when it gets an error?"
   ],
   "cell_type": "markdown",
   "metadata": {}
  },
  {
   "source": [
    "A: 13. Place the line of code that might cause an error in a `try` clause."
   ],
   "cell_type": "markdown",
   "metadata": {}
  },
  {
   "source": [
    "---\n",
    "Q: 14. What goes in the `try` clause? What goes in the `except` clause?"
   ],
   "cell_type": "markdown",
   "metadata": {}
  },
  {
   "source": [
    "A: 14. The code that could potentially cause an error goes in the `try` clause. The code that executes if an error happens goes in the `except` clause."
   ],
   "cell_type": "markdown",
   "metadata": {}
  }
 ],
 "metadata": {
  "kernelspec": {
   "display_name": "Python 3",
   "language": "python",
   "name": "python3"
  },
  "language_info": {
   "codemirror_mode": {
    "name": "ipython",
    "version": 3
   },
   "file_extension": ".py",
   "mimetype": "text/x-python",
   "name": "python",
   "nbconvert_exporter": "python",
   "pygments_lexer": "ipython3",
   "version": "3.7.2"
  }
 },
 "nbformat": 4,
 "nbformat_minor": 5
}