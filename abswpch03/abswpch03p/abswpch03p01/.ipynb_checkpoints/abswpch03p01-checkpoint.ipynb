{
 "cells": [
  {
   "cell_type": "markdown",
   "id": "4a127f40",
   "metadata": {},
   "source": [
    "*[abswpch03p01](abswpch03p01)/[abswpch03p01.ipynb](abswpch03p01/abswpch03p01.ipynb):* The Collatz Sequence  \n",
    "Write a function named `collatz()` that has one parameter named `number`. If `number` is even, then `collatz()` should print `number // 2` and return this value. If `number` is odd, then `collatz()` should print and return `3 * number + 1`.  \n",
    "Then write a program that lets the user type in an integer and that keeps calling `collatz()` on that number until the function returns the value 1. (Amazingly enough, this sequence actually works for any integer—sooner or later, using this sequence, you’ll arrive at 1! Even mathematicians aren’t sure why. Your program is exploring what’s called the `Collatz sequence`, sometimes called \"the simplest impossible math problem.\")  \n",
    "Remember to convert the return value from `input()` to an integer with the `int()` function; otherwise, it will be a string value.  \n",
    "Hint: An integer number is even if `number % 2 == 0`, and it’s odd if `number % 2 == 1`.  \n",
    "The output of this program could look something like this:  \n",
    "```\n",
    "Enter number:\n",
    "3\n",
    "10\n",
    "5\n",
    "16\n",
    "8\n",
    "4\n",
    "2\n",
    "1\n",
    "```\n"
   ]
  },
  {
   "cell_type": "code",
   "execution_count": 1,
   "id": "e6b0d2bc",
   "metadata": {},
   "outputs": [
    {
     "name": "stdout",
     "output_type": "stream",
     "text": [
      "Enter a number: 34\n",
      "17\n",
      "52\n",
      "26\n",
      "13\n",
      "40\n",
      "20\n",
      "10\n",
      "5\n",
      "16\n",
      "8\n",
      "4\n",
      "2\n",
      "1\n"
     ]
    }
   ],
   "source": [
    "def collatz(number):\n",
    "    if number%2:\n",
    "        return 3 * number + 1\n",
    "    else:\n",
    "        return number // 2\n",
    "\n",
    "number = int(input('Enter a number: '))\n",
    "while True:\n",
    "    number = collatz(number)\n",
    "    print(number)\n",
    "    if number <= 1:\n",
    "        break"
   ]
  },
  {
   "cell_type": "code",
   "execution_count": null,
   "id": "a14da9a4",
   "metadata": {},
   "outputs": [],
   "source": []
  }
 ],
 "metadata": {
  "interpreter": {
   "hash": "e922dd073470bdcc017ae3abd31d6491d6ed7bf31c1d559806e5511bfea88b81"
  },
  "kernelspec": {
   "display_name": "Python 3",
   "language": "python",
   "name": "python3"
  },
  "language_info": {
   "codemirror_mode": {
    "name": "ipython",
    "version": 3
   },
   "file_extension": ".py",
   "mimetype": "text/x-python",
   "name": "python",
   "nbconvert_exporter": "python",
   "pygments_lexer": "ipython3",
   "version": "3.7.2"
  }
 },
 "nbformat": 4,
 "nbformat_minor": 5
}
