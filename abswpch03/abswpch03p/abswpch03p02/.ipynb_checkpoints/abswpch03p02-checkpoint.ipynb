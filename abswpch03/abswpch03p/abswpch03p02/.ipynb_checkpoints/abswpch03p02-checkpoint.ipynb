{
 "cells": [
  {
   "cell_type": "markdown",
   "id": "2150d060",
   "metadata": {},
   "source": [
    "*[abswpch03p02](abswpch03p02)/[abswpch03p02.ipynb](abswpch03p02/abswpch03p02.ipynb):* Input Validation\n",
    "Add try and except statements to the previous project to detect whether the\n",
    "user types in a noninteger string. Normally, the int() function will raise a\n",
    "ValueError error if it is passed a noninteger string, as in int('puppy'). In the\n",
    "except clause, print a message to the user saying they must enter an integer."
   ]
  },
  {
   "cell_type": "code",
   "execution_count": 7,
   "id": "d3c184dc",
   "metadata": {},
   "outputs": [
    {
     "name": "stdout",
     "output_type": "stream",
     "text": [
      "********************************************************************************\n",
      "Enter a number: 12\n",
      "Error: TypeError.\n",
      "Your input must be an integer.\n",
      "********************************************************************************\n"
     ]
    }
   ],
   "source": [
    "print('*'*80)\n",
    "\n",
    "#-----------------------------------------------------\n",
    "def collatz(number):\n",
    "    if number%2:\n",
    "        return 3 * number + 1\n",
    "    else:\n",
    "        return number // 2\n",
    "#-----------------------------------------------------\n",
    "number = input('Enter a number: ')\n",
    "\n",
    "try:\n",
    "    while True:\n",
    "        number = collatz(number)\n",
    "        print(number)\n",
    "        if number <= 1:\n",
    "            break\n",
    "except TypeError:\n",
    "    print('Error: TypeError.')\n",
    "    print('Your input must be an integer.')\n",
    "#-----------------------------------------------------\n",
    "print('*'*80)"
   ]
  },
  {
   "cell_type": "code",
   "execution_count": null,
   "id": "a7aca9e6",
   "metadata": {},
   "outputs": [],
   "source": []
  }
 ],
 "metadata": {
  "kernelspec": {
   "display_name": "Python 3",
   "language": "python",
   "name": "python3"
  },
  "language_info": {
   "codemirror_mode": {
    "name": "ipython",
    "version": 3
   },
   "file_extension": ".py",
   "mimetype": "text/x-python",
   "name": "python",
   "nbconvert_exporter": "python",
   "pygments_lexer": "ipython3",
   "version": "3.7.2"
  }
 },
 "nbformat": 4,
 "nbformat_minor": 5
}
