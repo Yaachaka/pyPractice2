{
 "cells": [
  {
   "cell_type": "markdown",
   "id": "e7c4e6a5",
   "metadata": {},
   "source": [
    "Q: 1. Which of the following are operators, and which are values?\n",
    "\n",
    "```python\n",
    "*  \n",
    "'hello'  \n",
    "-88.8  \n",
    "-  \n",
    "/  \n",
    "+  \n",
    "5  \n",
    "```"
   ]
  },
  {
   "cell_type": "markdown",
   "id": "3b30f6f8",
   "metadata": {},
   "source": [
    "A: 1. The operators are +, -, \\*, and /. The values are 'hello', -88.8, and 5."
   ]
  },
  {
   "cell_type": "markdown",
   "id": "cf43e8f7",
   "metadata": {},
   "source": [
    "---\n",
    "Q: 2. Which of the following is a variable, and which is a string?  \n",
    "```python\n",
    "spam\n",
    "'spam'\n",
    "```"
   ]
  },
  {
   "cell_type": "markdown",
   "id": "dfa0b37e",
   "metadata": {},
   "source": [
    "A: 2. The string is 'spam'; the variable is spam. Strings always start and end with quotes."
   ]
  },
  {
   "cell_type": "markdown",
   "id": "0b5bdbba",
   "metadata": {},
   "source": [
    "---\n",
    "Q: 3. Name three data types."
   ]
  },
  {
   "cell_type": "markdown",
   "id": "baa5b276",
   "metadata": {},
   "source": [
    "A: 3. The three data types introduced in this chapter are integers, floating-point numbers, and strings."
   ]
  },
  {
   "cell_type": "markdown",
   "id": "f282fc69",
   "metadata": {},
   "source": [
    "---\n",
    "Q: 4. What is an expression made up of? What do all expressions do?"
   ]
  },
  {
   "cell_type": "markdown",
   "id": "aa245a03",
   "metadata": {},
   "source": [
    "A: 4. An expression is a combination of values and operators. All expressions evaluate (that is, reduce) to a single value."
   ]
  },
  {
   "cell_type": "markdown",
   "id": "a2a86c9b",
   "metadata": {},
   "source": [
    "---\n",
    "Q: 5. This chapter introduced assignment statements, like `spam = 10`. What is the difference between an expression and a statement?"
   ]
  },
  {
   "cell_type": "markdown",
   "id": "2130b5f4",
   "metadata": {},
   "source": [
    "A: 5. An expression evaluates to a single value. A statement does not."
   ]
  },
  {
   "cell_type": "markdown",
   "id": "305d28d4",
   "metadata": {},
   "source": [
    "---\n",
    "Q: 6. What does the variable bacon contain afer the following runs?\n",
    "```python\n",
    "bacon = 20\n",
    "bacon + 1\n",
    "```"
   ]
  },
  {
   "cell_type": "markdown",
   "id": "de8c7e3f",
   "metadata": {},
   "source": [
    "A: 6. The bacon is set to 20. The `bacon + 1` expression does not reassign the value in `bacon` (that would need an assignment statement: `bacon = bacon + 1`)."
   ]
  },
  {
   "cell_type": "markdown",
   "id": "19d3a9e4",
   "metadata": {},
   "source": [
    "---\n",
    "Q: 7. What should be the following two expressions evaluate to?\n",
    "```python\n",
    "'spam' + 'spamspam'\n",
    "'spam' * 3\n",
    "```"
   ]
  },
  {
   "cell_type": "markdown",
   "id": "9031763d",
   "metadata": {},
   "source": [
    "A: 7. Both expressions evaluate to the string 'spamspamspam'."
   ]
  },
  {
   "cell_type": "markdown",
   "id": "bb36d7fb",
   "metadata": {},
   "source": [
    "---\n",
    "Q: 8. Why is eggs a valid variable nme while 100 is invalid?"
   ]
  },
  {
   "cell_type": "markdown",
   "id": "b7ed81d6",
   "metadata": {},
   "source": [
    "A: 8. Variable names cannot begin with a number."
   ]
  },
  {
   "cell_type": "markdown",
   "id": "91c0ebe7",
   "metadata": {},
   "source": [
    "---\n",
    "Q: 9. What three functions can be used to get the integer, floating-point num ber, or string version of a value?"
   ]
  },
  {
   "cell_type": "markdown",
   "id": "a829082c",
   "metadata": {},
   "source": [
    "A: 9. The `int()`, `float()`, and `str()` functions will evaluate to integer, floating-point number, and string versions of the value passed to them."
   ]
  },
  {
   "cell_type": "markdown",
   "id": "e8133380",
   "metadata": {},
   "source": [
    "Q: 10. Why does this expression cause an error? How can you fix it?\n",
    "```python\n",
    "'I have eaten ' + 99 + ' burittos.'\n",
    "```\n",
    "**Extra credit:** Search online for the Python documentation for the `len()` function. It will be on a web page titled \"Built-in functions\". Skim the list of other functions Python has, look up what the `round()` function does, and experiment with it in the interactive shell."
   ]
  },
  {
   "cell_type": "markdown",
   "id": "d10a2772",
   "metadata": {},
   "source": [
    "A: 10. The expression causes an error because 99 is an integer, and only strings can be concatenated to other strings with the + operator. The correct way is `'I have eaten ' + str(99) + ' burritos.'`."
   ]
  },
  {
   "cell_type": "code",
   "execution_count": null,
   "id": "8b06d3aa",
   "metadata": {},
   "outputs": [],
   "source": []
  }
 ],
 "metadata": {
  "kernelspec": {
   "display_name": "Python 3",
   "language": "python",
   "name": "python3"
  },
  "language_info": {
   "codemirror_mode": {
    "name": "ipython",
    "version": 3
   },
   "file_extension": ".py",
   "mimetype": "text/x-python",
   "name": "python",
   "nbconvert_exporter": "python",
   "pygments_lexer": "ipython3",
   "version": "3.7.2"
  }
 },
 "nbformat": 4,
 "nbformat_minor": 5
}