{
 "cells": [
  {
   "source": [
    "Q: 1. What are the two values of the Boolean data type? How do you write them?"
   ],
   "cell_type": "markdown",
   "metadata": {}
  },
  {
   "source": [
    "A: 1. `True` and `False`, using capital T and F, with the rest of the word in lowercase."
   ],
   "cell_type": "markdown",
   "metadata": {}
  },
  {
   "source": [
    "---\n",
    "Q: 2. What are the three boolean operators?"
   ],
   "cell_type": "markdown",
   "metadata": {}
  },
  {
   "source": [
    "A: 2. `and`, `or`, and `not`"
   ],
   "cell_type": "markdown",
   "metadata": {}
  },
  {
   "source": [
    "---\n",
    "Q: 3. Write out the truth tables of each Boolean operator (that is, every possible combination of Boolean values for the operator and what they evaluate to)."
   ],
   "cell_type": "markdown",
   "metadata": {}
  },
  {
   "source": [
    "A: 3.   \n",
    "\n",
    "|state|operation|state|output|  \n",
    "|:---:|:---:|:---:|:---:|  \n",
    "|`True`|`and`|`True`|`True`|  \n",
    "|`True`|`and`|`False`|`False`|  \n",
    "|`False`|`and`|`True`|`False`|  \n",
    "|`False`|`and`|`False`|`False`|  \n",
    "|`True`|`or`|`True`|`True`|  \n",
    "|`True`|`or`|`False`|`True`|  \n",
    "|`False`|`or`|`True`|`True`|  \n",
    "|`False`|`or`|`False`|`False`|  \n",
    "|` `|`not`|`True`|`False`|  \n",
    "|` `|`not`|`False`|`True`|  "
   ],
   "cell_type": "markdown",
   "metadata": {}
  },
  {
   "source": [
    "---\n",
    "Q: 4. What do the following expressions evaluate to?\n",
    "```python\n",
    "(5 > 4) and (2 == 5)\n",
    "not (5 > 4)\n",
    "(5 > 4) or (3 == 5)\n",
    "not ((5 > 4) or (3 ==5))\n",
    "(True and True) and (True == False)\n",
    "(not False) or (not True)\n",
    "```"
   ],
   "cell_type": "markdown",
   "metadata": {}
  },
  {
   "source": [
    "A: 4. \n",
    "\n",
    "|||\n",
    "|---|:---:|\n",
    "|`(5 > 4) and (2 == 5)`|`False`|\n",
    "|`not (5 > 4)`|`False`|\n",
    "|`(5 > 4) or (3 == 5)`|`True`|\n",
    "|`not ((5 > 4) or (3 ==5))`|`False`|\n",
    "|`(True and True) and (True == False)`|`False`|\n",
    "|`(not False) or (not True)`|`True`|"
   ],
   "cell_type": "markdown",
   "metadata": {}
  },
  {
   "source": [
    "---\n",
    "Q: 5. What are the six comparision operators?"
   ],
   "cell_type": "markdown",
   "metadata": {}
  },
  {
   "source": [
    "A: 5. ==, !=, <, >, <=, and >=."
   ],
   "cell_type": "markdown",
   "metadata": {}
  },
  {
   "source": [
    "---\n",
    "Q: 6. What is the difference between the equal to operator and the assignment operator?"
   ],
   "cell_type": "markdown",
   "metadata": {}
  },
  {
   "source": [
    "A: 6. == is the equal to operator that compares two values and evaluates to a Boolean, while = is the assignment operator that stores a value in a vriable."
   ],
   "cell_type": "markdown",
   "metadata": {}
  },
  {
   "source": [
    "---\n",
    "Q: 7. Explain what a condition is and where you would use one?"
   ],
   "cell_type": "markdown",
   "metadata": {}
  },
  {
   "source": [
    "A: 7. A condition is an expression used in a flow control statement that evaluaes to a Boolean value."
   ],
   "cell_type": "markdown",
   "metadata": {}
  },
  {
   "source": [
    "---\n",
    "Q: 8. Identify the three blocks in this code:\n",
    "```python\n",
    "spam = 0\n",
    "if spam == 10:\n",
    "    print('eggs')\n",
    "    if spam > 5:\n",
    "        print('bacon')\n",
    "    else:\n",
    "        print('ham')\n",
    "    print('spam')\n",
    "print('spam')\n",
    "```"
   ],
   "cell_type": "markdown",
   "metadata": {}
  },
  {
   "source": [
    "A: 9. The three blocks are everything inside the `if` statement and the lines `print('bacon')` and `print('ham')`.\n",
    "```python\n",
    "print('eggs')\n",
    "if spam > 5:\n",
    "    print('bacon')\n",
    "else:\n",
    "    print('ham')\n",
    "print('spam')\n",
    "```"
   ],
   "cell_type": "markdown",
   "metadata": {}
  },
  {
   "source": [
    "---\n",
    "Q: 9. Write code that prints *Hello* if 1 is stored in *spam*, prints Howdy if 2 is stored in *spam*, and prints *Greetings!* if anything else is stored in *spam*."
   ],
   "cell_type": "markdown",
   "metadata": {}
  },
  {
   "source": [
    "A: 9. The code:\n",
    "```python\n",
    "if spam == 1:\n",
    "    print('Hello')\n",
    "elif spam == 2:\n",
    "    print('Howdy')\n",
    "else:\n",
    "    print('Greetings!')\n",
    "```"
   ],
   "cell_type": "markdown",
   "metadata": {}
  },
  {
   "source": [
    "---\n",
    "Q: 10. What can you press if your program is stuck in an infinite loop?"
   ],
   "cell_type": "markdown",
   "metadata": {}
  },
  {
   "source": [
    "A: 10. Press CTRL-C to stop a program stuck in an infinite loop."
   ],
   "cell_type": "markdown",
   "metadata": {}
  },
  {
   "source": [
    "---\n",
    "Q: 11. What is the difference between in `break` and `continue`?"
   ],
   "cell_type": "markdown",
   "metadata": {}
  },
  {
   "source": [
    "A: 11. The `break` statement will move the execution outside and just after a loop. The `continue` statement will move the execution to the start of the loop."
   ],
   "cell_type": "markdown",
   "metadata": {}
  },
  {
   "source": [
    "---\n",
    "Q: 12. What is the difference between range(10), range(0, 10), and range(0, 10, 1) in a for loop?"
   ],
   "cell_type": "markdown",
   "metadata": {}
  },
  {
   "source": [
    "A: 12. They all do the same thing. the range(10) call ranges from 0 to (but not includng) 10, range(0, 10) explicitly tells the loop to start at 0, and range(0, 10, 1) explicitly tells the loop to increase the variable by 1 on each iteration."
   ],
   "cell_type": "markdown",
   "metadata": {}
  },
  {
   "source": [
    "---\n",
    "Q: 13. Write a short program  that prins the numbers 1 to 10 using a `for` loop. then write an equivalent program that prints the numbers 1 to 10 using a `while` loop."
   ],
   "cell_type": "markdown",
   "metadata": {}
  },
  {
   "source": [
    "A: 13. The code:\n",
    "```python\n",
    "for i in range(1, 11):\n",
    "    print(i)\n",
    "```\n",
    "and:\n",
    "```python\n",
    "i = 1\n",
    "while i <= 10:\n",
    "    print(i)\n",
    "    i = i + 1\n",
    "```"
   ],
   "cell_type": "markdown",
   "metadata": {}
  },
  {
   "source": [
    "---\n",
    "Q: 14. If you had a function named `bacon()` inside a module named `spam`, how would you call it after importing `spam`?  \n",
    "**Extra credit:** Look up the `round()` and `abs()` functions on the Internet, ad find out what they do. Experiment with them in the interactive shell."
   ],
   "cell_type": "markdown",
   "metadata": {}
  },
  {
   "source": [
    "A: 14. This function can be called with `spam.bacon()`.   \n",
    "*Extra credit:*"
   ],
   "cell_type": "markdown",
   "metadata": {}
  },
  {
   "cell_type": "code",
   "execution_count": 1,
   "metadata": {},
   "outputs": [
    {
     "output_type": "execute_result",
     "data": {
      "text/plain": [
       "12"
      ]
     },
     "metadata": {},
     "execution_count": 1
    }
   ],
   "source": [
    "round(12.34)"
   ]
  },
  {
   "cell_type": "code",
   "execution_count": 2,
   "metadata": {},
   "outputs": [
    {
     "output_type": "execute_result",
     "data": {
      "text/plain": [
       "12.3456"
      ]
     },
     "metadata": {},
     "execution_count": 2
    }
   ],
   "source": [
    "round(12.3456, 5)"
   ]
  },
  {
   "cell_type": "code",
   "execution_count": 3,
   "metadata": {},
   "outputs": [
    {
     "output_type": "execute_result",
     "data": {
      "text/plain": [
       "12.35"
      ]
     },
     "metadata": {},
     "execution_count": 3
    }
   ],
   "source": [
    "round(12.3456, 2)"
   ]
  },
  {
   "cell_type": "code",
   "execution_count": 4,
   "metadata": {},
   "outputs": [
    {
     "output_type": "execute_result",
     "data": {
      "text/plain": [
       "12.0"
      ]
     },
     "metadata": {},
     "execution_count": 4
    }
   ],
   "source": [
    "round(12.345, 0)"
   ]
  },
  {
   "cell_type": "code",
   "execution_count": 5,
   "metadata": {},
   "outputs": [
    {
     "output_type": "execute_result",
     "data": {
      "text/plain": [
       "10.0"
      ]
     },
     "metadata": {},
     "execution_count": 5
    }
   ],
   "source": [
    "round(12.34, -1)"
   ]
  },
  {
   "cell_type": "code",
   "execution_count": 6,
   "metadata": {},
   "outputs": [
    {
     "output_type": "execute_result",
     "data": {
      "text/plain": [
       "20.0"
      ]
     },
     "metadata": {},
     "execution_count": 6
    }
   ],
   "source": [
    "round(18.34, -1)"
   ]
  },
  {
   "cell_type": "code",
   "execution_count": 7,
   "metadata": {},
   "outputs": [
    {
     "output_type": "execute_result",
     "data": {
      "text/plain": [
       "0.0"
      ]
     },
     "metadata": {},
     "execution_count": 7
    }
   ],
   "source": [
    "round(18.34, -2)"
   ]
  },
  {
   "cell_type": "code",
   "execution_count": 8,
   "metadata": {},
   "outputs": [
    {
     "output_type": "execute_result",
     "data": {
      "text/plain": [
       "100.0"
      ]
     },
     "metadata": {},
     "execution_count": 8
    }
   ],
   "source": [
    "round(99.34, -2)"
   ]
  },
  {
   "cell_type": "code",
   "execution_count": 9,
   "metadata": {},
   "outputs": [
    {
     "output_type": "execute_result",
     "data": {
      "text/plain": [
       "34.34"
      ]
     },
     "metadata": {},
     "execution_count": 9
    }
   ],
   "source": [
    "abs(-34.34)"
   ]
  },
  {
   "cell_type": "code",
   "execution_count": 10,
   "metadata": {},
   "outputs": [
    {
     "output_type": "execute_result",
     "data": {
      "text/plain": [
       "34.34"
      ]
     },
     "metadata": {},
     "execution_count": 10
    }
   ],
   "source": [
    "abs(34.34)"
   ]
  },
  {
   "cell_type": "code",
   "execution_count": null,
   "metadata": {},
   "outputs": [],
   "source": []
  }
 ],
 "metadata": {
  "kernelspec": {
   "name": "python3",
   "display_name": "Python 3.7.2 64-bit"
  },
  "language_info": {
   "codemirror_mode": {
    "name": "ipython",
    "version": 3
   },
   "file_extension": ".py",
   "mimetype": "text/x-python",
   "name": "python",
   "nbconvert_exporter": "python",
   "pygments_lexer": "ipython3",
   "version": "3.7.2"
  },
  "interpreter": {
   "hash": "e922dd073470bdcc017ae3abd31d6491d6ed7bf31c1d559806e5511bfea88b81"
  }
 },
 "nbformat": 4,
 "nbformat_minor": 5
}