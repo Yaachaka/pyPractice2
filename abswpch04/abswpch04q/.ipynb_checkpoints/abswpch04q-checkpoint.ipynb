{
 "cells": [
  {
   "cell_type": "markdown",
   "id": "c37c3352",
   "metadata": {},
   "source": [
    "# Chapter 04: Lists\n",
    "### Practice Questions"
   ]
  },
  {
   "cell_type": "markdown",
   "id": "2c3272ae",
   "metadata": {},
   "source": [
    "---\n",
    "Q: 1. What is `[]`?"
   ]
  },
  {
   "cell_type": "markdown",
   "id": "ef42a10d",
   "metadata": {},
   "source": [
    "A: 1. The empty list value, which is a list value that contains no items. This is similar to how '' is the empty string value."
   ]
  },
  {
   "cell_type": "markdown",
   "id": "c78c3014",
   "metadata": {},
   "source": [
    "---\n",
    "Q: 2. How would you assign the value 'hello' as the third value in a list sored in a variable named `spam`? (Assume `spam` contains \\[2, 4, 6, 8, 10\\].)  \n",
    "For the following three questions, let's say `spam` contains the list \\['a', 'b', 'c', 'd'\\]."
   ]
  },
  {
   "cell_type": "markdown",
   "id": "c2b57687",
   "metadata": {},
   "source": [
    "A: 2. `spam[2] = 'hello'` (Notice that the third value in a list is at index 2 because the first index is 0.)"
   ]
  },
  {
   "cell_type": "markdown",
   "id": "044bdd93",
   "metadata": {},
   "source": [
    "---\n",
    "Q: 3. What does spam `[int(int('3'*2)/11)]` evaluate to?"
   ]
  },
  {
   "cell_type": "markdown",
   "id": "a2dbe718",
   "metadata": {},
   "source": [
    "A: 3. 'd' (Note that '3' * 2 is the string '33', which is passed to `int()` before being divided by 11. This eventually evaluates to 3. Expressions can be used wherever values are used.)"
   ]
  },
  {
   "cell_type": "markdown",
   "id": "105bea15",
   "metadata": {},
   "source": [
    "---\n",
    "Q: 4. What does `spam[-1]` evaluate to?"
   ]
  },
  {
   "cell_type": "markdown",
   "id": "9f8ddc51",
   "metadata": {},
   "source": [
    "A: 4. 'd' (Negative indexes count from  the end.)"
   ]
  },
  {
   "cell_type": "markdown",
   "id": "b832fc6e",
   "metadata": {},
   "source": [
    "---\n",
    "Q: 5. What does `spam[:2]` evaluate to?  \n",
    "For the following three questions, let's say `bacon` contains the list `[3.14, 'ca', 11, 'cat', True]`"
   ]
  },
  {
   "cell_type": "markdown",
   "id": "9d8bd926",
   "metadata": {},
   "source": [
    "A: 5. \\['a', 'b'\\]"
   ]
  },
  {
   "cell_type": "markdown",
   "id": "1a2dac0f",
   "metadata": {},
   "source": [
    "---\n",
    "Q: 6. What does `bacon.index('cat')` evaluate to?"
   ]
  },
  {
   "cell_type": "markdown",
   "id": "9a7fffc2",
   "metadata": {},
   "source": [
    "A: 6. 1"
   ]
  },
  {
   "cell_type": "markdown",
   "id": "fab1bd32",
   "metadata": {},
   "source": [
    "---\n",
    "Q: 7. What does `bacon.append(99)` make the list value in `bacon` look like?"
   ]
  },
  {
   "cell_type": "markdown",
   "id": "cde6b202",
   "metadata": {},
   "source": [
    "A: 7. \\[3.14, 'cat', 11, 'cat', True, 99\\]"
   ]
  },
  {
   "cell_type": "markdown",
   "id": "e4a5f98d",
   "metadata": {},
   "source": [
    "---\n",
    "Q: 8. What does `bacon.remove('cat')` make the list value in `bacon` look like?"
   ]
  },
  {
   "cell_type": "markdown",
   "id": "36310b43",
   "metadata": {},
   "source": [
    "A: 8. \\[3.14, 11, 'cat', True\\]"
   ]
  },
  {
   "cell_type": "markdown",
   "id": "625a6ab5",
   "metadata": {},
   "source": [
    "---\n",
    "Q: 9. What are the operators for list concatenation and list replication?"
   ]
  },
  {
   "cell_type": "markdown",
   "id": "d40722f7",
   "metadata": {},
   "source": [
    "A: 9. The operator for list concatenation is +, while the operator for replication is \\*. (This is same as for strings.)"
   ]
  },
  {
   "cell_type": "markdown",
   "id": "7e53c1c3",
   "metadata": {},
   "source": [
    "---\n",
    "Q: 10. What is the difference between the `append()` and `insert()` list methods?"
   ]
  },
  {
   "cell_type": "markdown",
   "id": "75605856",
   "metadata": {},
   "source": [
    "A: 10. While `append()` will add values only to the end of a list, `insert()` can add them anywhere in a list."
   ]
  },
  {
   "cell_type": "markdown",
   "id": "4d2faae8",
   "metadata": {},
   "source": [
    "---\n",
    "Q: 11. What are the two ways to remove values from a list?"
   ]
  },
  {
   "cell_type": "markdown",
   "id": "8c361d00",
   "metadata": {},
   "source": [
    "A: 11. The `del` statement and the `remove()` list method are two ways to remove values from a list."
   ]
  },
  {
   "cell_type": "markdown",
   "id": "cfb67976",
   "metadata": {},
   "source": [
    "---\n",
    "Q: 12. Name a few ways that list values are similar to string values."
   ]
  },
  {
   "cell_type": "markdown",
   "id": "403d8f1c",
   "metadata": {},
   "source": [
    "A: 12. Both lists and strings can be passed to `len ()`, have indexes and slices, be used in for loops, be concatenated or replicated, and be used with the `in` and `not in` operators."
   ]
  },
  {
   "cell_type": "markdown",
   "id": "eef1c0ec",
   "metadata": {},
   "source": [
    "---\n",
    "Q: 13. What is the difference between lists and tuples?"
   ]
  },
  {
   "cell_type": "markdown",
   "id": "5ca8efbb",
   "metadata": {},
   "source": [
    "A: 13. Lists are mutable; they can have values added, removed, or changed. Tuples are immutable; they cannot be changed at all. Also, tuples are written using parentheses, ( and ), while lists use the square brackets, \\[ and \\]."
   ]
  },
  {
   "cell_type": "markdown",
   "id": "aecd3018",
   "metadata": {},
   "source": [
    "---\n",
    "Q: 14. How do you type the tuple value that has just the integer value 42 in it?"
   ]
  },
  {
   "cell_type": "markdown",
   "id": "41a60eb9",
   "metadata": {},
   "source": [
    "A: 14. (42,) (The trailing comma is mandatory.)"
   ]
  },
  {
   "cell_type": "markdown",
   "id": "2eb49c8a",
   "metadata": {},
   "source": [
    "---\n",
    "Q: 15. How can you get the tuple form of a list value? How can you get the list form of a tuple value?"
   ]
  },
  {
   "cell_type": "markdown",
   "id": "deabf51b",
   "metadata": {},
   "source": [
    "A: 15. The `tuple()` and `list()` functions, respectively."
   ]
  },
  {
   "cell_type": "markdown",
   "id": "c687832a",
   "metadata": {},
   "source": [
    "Q: 16. Variables that \"contain\" list values don't actually contain lists directly. What do they contain instead?"
   ]
  },
  {
   "cell_type": "markdown",
   "id": "31aec89b",
   "metadata": {},
   "source": [
    "A: 16. They contain references to list values."
   ]
  },
  {
   "cell_type": "markdown",
   "id": "925173bf",
   "metadata": {},
   "source": [
    "---\n",
    "Q: 17. What is the difference between `copy.copy()` and `copy.deepcopy()`?"
   ]
  },
  {
   "cell_type": "markdown",
   "id": "d6860c1a",
   "metadata": {},
   "source": [
    "A: 17. The `copy.copy()` function will do a shallow copy of list, while the `copy.deep()` function will do a deep copy of a list. That is, only `copy.deepcopy()` will duplicate any lists inside the list."
   ]
  }
 ],
 "metadata": {
  "kernelspec": {
   "display_name": "Python 3",
   "language": "python",
   "name": "python3"
  },
  "language_info": {
   "codemirror_mode": {
    "name": "ipython",
    "version": 3
   },
   "file_extension": ".py",
   "mimetype": "text/x-python",
   "name": "python",
   "nbconvert_exporter": "python",
   "pygments_lexer": "ipython3",
   "version": "3.7.2"
  }
 },
 "nbformat": 4,
 "nbformat_minor": 5
}
