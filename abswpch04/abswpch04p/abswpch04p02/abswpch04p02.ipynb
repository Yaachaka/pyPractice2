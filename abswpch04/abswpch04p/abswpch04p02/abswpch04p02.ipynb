{
 "cells": [
  {
   "cell_type": "markdown",
   "id": "d34769eb",
   "metadata": {},
   "source": [
    "*[absabswpch04p02](abswpch04p02)/[absabswpch04p02.ipynb](abswpch04p02.ipynb):*  \n",
    "**Character Picture Grid**\n",
    "Say you have a list of lists where each value in the inner lists is a one-character\n",
    "string, like this:\n",
    "```\n",
    "grid = [['.', '.', '.', '.', '.', '.'],\n",
    "['.', 'O', 'O', '.', '.', '.'],\n",
    "['O', 'O', 'O', 'O', '.', '.'],\n",
    "['O', 'O', 'O', 'O', 'O', '.'],\n",
    "['.', 'O', 'O', 'O', 'O', 'O'],\n",
    "['O', 'O', 'O', 'O', 'O', '.'],\n",
    "['O', 'O', 'O', 'O', '.', '.'],\n",
    "['.', 'O', 'O', '.', '.', '.'],\n",
    "['.', '.', '.', '.', '.', '.']]\n",
    "```\n",
    "\n",
    "You can think of `grid[x][y]` as being the character at the x-and y-coordinates of a \"picture\" drawn with text characters. The (0, 0) origin will be in the upper-left corner, the x-coordinates increase going right, and the y-coordinates increase going down.  \n",
    "Copy the previous grid value, and write code that uses it to print the image.\n",
    "\n",
    "..OO.OO..  \n",
    ".OOOOOOO.  \n",
    ".OOOOOOO.  \n",
    "..OOOOO..  \n",
    "...OOO...  \n",
    "....O....  \n",
    "\n",
    "Hint: You will need to use a loop in a loop in order to print `grid[0][0]`, then `grid[1][0]`, then `grid[2][0]`, and so on, up to `grid[8][0]`. This will finish the first row, so then print a newline. Then your program should print `grid[0][1]`, then `grid[1][1]`, then `grid[2][1]`, and so on. The last thing your program will print is `grid[8][5]`.  \n",
    "Also, remember to pass the `end` keyword argument to `print()` if you don’t want a newline printed automatically after each `print()` call.\n"
   ]
  },
  {
   "cell_type": "code",
   "execution_count": 1,
   "id": "6e026ce9",
   "metadata": {},
   "outputs": [
    {
     "name": "stdout",
     "output_type": "stream",
     "text": [
      "********************************************************************************\n",
      "......\n",
      ".OO...\n",
      "OOOO..\n",
      "OOOOO.\n",
      ".OOOOO\n",
      "OOOOO.\n",
      "OOOO..\n",
      ".OO...\n",
      "......\n",
      "********************************************************************************\n"
     ]
    }
   ],
   "source": [
    "#------------------------------------------------------------------------------\n",
    "print('*'*80)\n",
    "#------------------------------------------------------------------------------\n",
    "\n",
    "#------------------------------------------------------------------------------\n",
    "\n",
    "#------------------------------------------------------------------------------\n",
    "\n",
    "#------------------------------------------------------------------------------\n",
    "grid = [['.', '.', '.', '.', '.', '.'],\n",
    "['.', 'O', 'O', '.', '.', '.'],\n",
    "['O', 'O', 'O', 'O', '.', '.'],\n",
    "['O', 'O', 'O', 'O', 'O', '.'],\n",
    "['.', 'O', 'O', 'O', 'O', 'O'],\n",
    "['O', 'O', 'O', 'O', 'O', '.'],\n",
    "['O', 'O', 'O', 'O', '.', '.'],\n",
    "['.', 'O', 'O', '.', '.', '.'],\n",
    "['.', '.', '.', '.', '.', '.']]\n",
    "\n",
    "for i in grid:\n",
    "\tfor j in range(len(i)):\n",
    "\t\tprint(i[j], end='')\n",
    "\tprint()\n",
    "#------------------------------------------------------------------------------\n",
    "\n",
    "#------------------------------------------------------------------------------\n",
    "\n",
    "#------------------------------------------------------------------------------\n",
    "\n",
    "#------------------------------------------------------------------------------\n",
    "\n",
    "#------------------------------------------------------------------------------\n",
    "\n",
    "#------------------------------------------------------------------------------\n",
    "\n",
    "#------------------------------------------------------------------------------\n",
    "\n",
    "#------------------------------------------------------------------------------\n",
    "print('*'*80)\n",
    "#------------------------------------------------------------------------------"
   ]
  },
  {
   "cell_type": "code",
   "execution_count": null,
   "id": "8bab0b76",
   "metadata": {},
   "outputs": [],
   "source": []
  }
 ],
 "metadata": {
  "kernelspec": {
   "display_name": "Python 3",
   "language": "python",
   "name": "python3"
  },
  "language_info": {
   "codemirror_mode": {
    "name": "ipython",
    "version": 3
   },
   "file_extension": ".py",
   "mimetype": "text/x-python",
   "name": "python",
   "nbconvert_exporter": "python",
   "pygments_lexer": "ipython3",
   "version": "3.7.2"
  }
 },
 "nbformat": 4,
 "nbformat_minor": 5
}
