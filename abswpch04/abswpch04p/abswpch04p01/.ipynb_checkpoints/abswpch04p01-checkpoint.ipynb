{
 "cells": [
  {
   "cell_type": "markdown",
   "id": "99047d55",
   "metadata": {},
   "source": [
    "*[absabswpch04p01](abswpch04p01)/[absabswpch04p01.ipynb](abswpch04p01.ipynb):*  \n",
    "**Comma Code**\n",
    "Say you have a list value like this:  \n",
    "```python\n",
    "spam = ['apples', 'bananas', 'tofu', 'cats']\n",
    "```\n",
    "Write a function that takes a list value as an argument and returns a string with all the items separated by a comma and a space, with and inserted before the last item. For example, passing the previous spam list to the function would return 'apples, bananas, tofu, and cats'. But your function should be able to work with any list value passed to it."
   ]
  },
  {
   "cell_type": "code",
   "execution_count": 1,
   "id": "fd3e9049",
   "metadata": {},
   "outputs": [
    {
     "name": "stdout",
     "output_type": "stream",
     "text": [
      "********************************************************************************\n",
      "Returned from function: apples, bananas, tofu and cats\n",
      "********************************************************************************\n"
     ]
    }
   ],
   "source": [
    "#------------------------------------------------------------------------------\n",
    "print('*'*80)\n",
    "#------------------------------------------------------------------------------\n",
    "\n",
    "#------------------------------------------------------------------------------\n",
    "\n",
    "#------------------------------------------------------------------------------\n",
    "\n",
    "#------------------------------------------------------------------------------\n",
    "def fun1(ls1):\n",
    "\treturn ', '.join(ls1[:-1]) + ' and ' + ls1[-1]\n",
    "#------------------------------------------------------------------------------\n",
    "\n",
    "#------------------------------------------------------------------------------\n",
    "\n",
    "#------------------------------------------------------------------------------\n",
    "spam = ['apples', 'bananas', 'tofu', 'cats', 'Dogs']\n",
    "print('Returned from function:', fun1(spam))\n",
    "#ls1 = input('Enter a list of string items: ')\n",
    "#print('Returned from function:', fun1(ls1))\n",
    "#------------------------------------------------------------------------------\n",
    "\n",
    "#------------------------------------------------------------------------------\n",
    "\n",
    "#------------------------------------------------------------------------------\n",
    "\n",
    "#------------------------------------------------------------------------------\n",
    "\n",
    "#------------------------------------------------------------------------------\n",
    "print('*'*80)\n",
    "#------------------------------------------------------------------------------"
   ]
  },
  {
   "cell_type": "code",
   "execution_count": null,
   "id": "44fe0a79",
   "metadata": {},
   "outputs": [],
   "source": []
  }
 ],
 "metadata": {
  "kernelspec": {
   "display_name": "Python 3",
   "language": "python",
   "name": "python3"
  },
  "language_info": {
   "codemirror_mode": {
    "name": "ipython",
    "version": 3
   },
   "file_extension": ".py",
   "mimetype": "text/x-python",
   "name": "python",
   "nbconvert_exporter": "python",
   "pygments_lexer": "ipython3",
   "version": "3.7.2"
  }
 },
 "nbformat": 4,
 "nbformat_minor": 5
}
